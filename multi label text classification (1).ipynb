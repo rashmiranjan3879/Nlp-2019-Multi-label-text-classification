{
 "cells": [
  {
   "cell_type": "code",
   "execution_count": 1,
   "metadata": {},
   "outputs": [],
   "source": [
    "import os\n",
    "import numpy as np\n",
    "import pandas as pd\n",
    "from nltk.tokenize import word_tokenize\n",
    "from sklearn.metrics import classification_report\n",
    "from matplotlib import pyplot as pl\n",
    "%matplotlib inline"
   ]
  },
  {
   "cell_type": "code",
   "execution_count": 2,
   "metadata": {},
   "outputs": [],
   "source": [
    "total_data=np.zeros((19000,1),dtype=object)\n",
    "total_data_class=np.zeros((19000,20),dtype=float)"
   ]
  },
  {
   "cell_type": "code",
   "execution_count": 3,
   "metadata": {},
   "outputs": [],
   "source": [
    "data_storage1=np.zeros((20,14),dtype=float)"
   ]
  },
  {
   "cell_type": "code",
   "execution_count": 4,
   "metadata": {},
   "outputs": [],
   "source": [
    "events={('AVALANCHES',1):['avalanche','avalanches'],('AVIATION_HAZARD',2):['plane', 'wreckage', 'pilot', 'aviation', 'helicopter', 'aircraft', 'flight'],('ARMED_CONFLICTS',3):['conflict', 'militia', 'militant', 'attack', 'armed', 'fight', 'atrocities', 'weapon',  'war', 'gun', 'arms', 'killing'],\n",
    "       ('CLIMATE_CHANGE',4):['climate', 'environment', 'carbon', 'heat wave', 'cold wave', 'temperature'],('DISEASE_OUTBREAK',5):['disease', 'epidemic', 'pandemic', 'outbreak', 'spread', 'health', 'virus'],\n",
    "       ('EARTHQUAKE',6):['earthquake', 'seismic', 'magnitude', 'epicenter', 'tremor', 'aftershock', 'mainshock', 'quake'],('FIRE',7):['fire', 'forest fire', 'blaze', 'burn'],\n",
    "       ('FLOOD',8):['flood', 'rain','flooding'],('INDUSTRIAL_ACCIDENT',9):['worker','killed','killing','accident','injure','injuring','injured','industry','industries'],('LANDSLIDE',10):['landslide', 'rock fall', 'buried', 'rubble'],('NORMAL_BOMBING',11):['bomb', 'explosive','explosion','bombing'],('RIOTS',12):['riot','riots'],\n",
    "       ('STORM',13):['storm','storms','tornado','hurricane','cyclone','blizzard','hailstorm'],('SHOOT_OUT',14):['shoot-out','shoot_out','shoot','firing','shooting'],('SURGICAL-STRIKES',15):['surgical-strike','army','attack'],('TERRORIST_ATTACK',16):['terrorist','attack','suicide_attack','terrorists'],('TRANSPORT_HAZARD',17):['collision','accidents','accident','crash','crashed','collided'],('TSUNAMI',18):['tsunami','tsunamis'],('VOLCANO',19):['volcano','volcanoes','erruption','errupted','errupt']}"
   ]
  },
  {
   "cell_type": "code",
   "execution_count": 5,
   "metadata": {},
   "outputs": [],
   "source": [
    "event_space=['Avalanches','Aviation_Hazard','Armed_conflicts','Climate_change','Disease_outbreak','Earthquake','Fire','Flood','Industrial_accident','Landslide','Normal_Bombing','Riots','Storm','Shoot_out','Surgical_strikes','Terrorist_Attack','Transportation_Haazard','Tsunami','Volcano']"
   ]
  },
  {
   "cell_type": "code",
   "execution_count": 6,
   "metadata": {},
   "outputs": [],
   "source": [
    "def Convert(lst): \n",
    "    res_dct = {lst[i]: 0 for i in range(0, len(lst))} \n",
    "    return res_dct "
   ]
  },
  {
   "cell_type": "code",
   "execution_count": 7,
   "metadata": {},
   "outputs": [
    {
     "name": "stdout",
     "output_type": "stream",
     "text": [
      "0\n",
      "1\n",
      "2\n",
      "3\n",
      "4\n",
      "5\n",
      "6\n",
      "7\n",
      "8\n",
      "9\n",
      "10\n",
      "11\n",
      "12\n",
      "13\n",
      "14\n",
      "15\n",
      "16\n",
      "17\n",
      "18\n",
      "18189\n",
      "0 ---->> 201\n",
      "1 ---->> 1415\n",
      "2 ---->> 2912\n",
      "3 ---->> 1079\n",
      "4 ---->> 1156\n",
      "5 ---->> 1698\n",
      "6 ---->> 547\n",
      "7 ---->> 824\n",
      "8 ---->> 3102\n",
      "9 ---->> 271\n",
      "10 ---->> 612\n",
      "11 ---->> 349\n",
      "12 ---->> 998\n",
      "13 ---->> 679\n",
      "14 ---->> 800\n",
      "15 ---->> 981\n",
      "16 ---->> 1385\n",
      "17 ---->> 506\n",
      "18 ---->> 383\n",
      "19 ---->> 5382\n"
     ]
    }
   ],
   "source": [
    "folders=os.listdir('data/english-corpus')\n",
    "k=0\n",
    "for i,folder in enumerate(folders):\n",
    "    files=os.listdir('data/english-corpus/'+folder)\n",
    "    print(i)\n",
    "    for file in files:\n",
    "        \n",
    "        with open('data/english-corpus/'+folder+'/'+file, \"r\" ,errors='ignore') as f:\n",
    "            data=f.read().lower()\n",
    "            data=data.split('\\n')\n",
    "            data='.'.join(data)\n",
    "            total_data[k]=data\n",
    "            ##################################################################################################\n",
    "            ##CHECKING THE CLASS\n",
    "            words=data.split()\n",
    "            \n",
    "            for event,keywords in events.items():\n",
    "                dict_keywords=Convert(keywords)\n",
    "                for word in words:\n",
    "                    try:\n",
    "                        dict_keywords[word]=dict_keywords[word]+1\n",
    "                    except:\n",
    "                        continue\n",
    "                count=sum(dict_keywords.values())\n",
    "                if(count>=3):\n",
    "                    total_data_class[k][event[1]-1]=1\n",
    "                elif(event[1]==14 and count>1):\n",
    "                    total_data_class[k][event[1]-1]=1\n",
    "            #####################################################################################################\n",
    "            if(np.sum(total_data_class[k])==0):\n",
    "                #print(total_data_class[k])\n",
    "                total_data_class[k,19]=1\n",
    "            k=k+1\n",
    "            #print(data)\n",
    "##############################################################################################\n",
    "for i in range(0,np.shape(total_data)[0]):\n",
    "    if(total_data[i]==0):\n",
    "        print(i)\n",
    "        total_data=total_data[:i]\n",
    "        total_data_class=total_data_class[:i]\n",
    "        break\n",
    "##############################################################################################\n",
    "for i in range(0,20):\n",
    "    print(i,'---->>',np.count_nonzero(total_data_class[:,i]))\n",
    "    "
   ]
  },
  {
   "cell_type": "code",
   "execution_count": 8,
   "metadata": {},
   "outputs": [
    {
     "name": "stdout",
     "output_type": "stream",
     "text": [
      "Avalanches ---->> 201\n",
      "Aviation_Hazard ---->> 1415\n",
      "Armed_conflicts ---->> 2912\n",
      "Climate_change ---->> 1079\n",
      "Disease_outbreak ---->> 1156\n",
      "Earthquake ---->> 1698\n",
      "Fire ---->> 547\n",
      "Flood ---->> 824\n",
      "Industrial_accident ---->> 3102\n",
      "Landslide ---->> 271\n",
      "Normal_Bombing ---->> 612\n",
      "Riots ---->> 349\n",
      "Storm ---->> 998\n",
      "Shoot_out ---->> 679\n",
      "Surgical_strikes ---->> 800\n",
      "Terrorist_Attack ---->> 981\n",
      "Transportation_Haazard ---->> 1385\n",
      "Tsunami ---->> 506\n",
      "Volcano ---->> 383\n"
     ]
    }
   ],
   "source": [
    "total_files_scrapped=np.zeros((19,1))\n",
    "for i in range(0,19):\n",
    "    print(event_space[i],'---->>',np.count_nonzero(total_data_class[:,i]))\n",
    "    total_files_scrapped[i,0]=np.count_nonzero(total_data_class[:,i])\n"
   ]
  },
  {
   "cell_type": "code",
   "execution_count": 35,
   "metadata": {
    "scrolled": true
   },
   "outputs": [],
   "source": [
    "from keras.preprocessing.text import Tokenizer\n",
    "from keras.preprocessing.sequence import pad_sequences\n",
    "\n",
    "from keras.layers import Input, Embedding, Activation, Flatten, Dense\n",
    "from keras.layers import Conv1D, MaxPooling1D, Dropout\n",
    "from keras.models import Model\n",
    "from tensorflow.keras import backend as K\n",
    "from keras.utils import to_categorical\n",
    "from keras import optimizers\n",
    "import tensorflow as tf"
   ]
  },
  {
   "cell_type": "code",
   "execution_count": 10,
   "metadata": {},
   "outputs": [],
   "source": [
    "tk = Tokenizer(num_words=None, char_level=True, oov_token='UNK')\n",
    "alphabet = \"abcdefghijklmnopqrstuvwxyz0123456789,;.!?:'\\\"/\\\\|_@#$%^&*~`+-=<>()[]{}\"\n",
    "char_dict = {}\n",
    "for i, char in enumerate(alphabet):\n",
    "    char_dict[char] = i + 1\n",
    "\n",
    "# Use char_dict to replace the tk.word_index\n",
    "tk.word_index = char_dict.copy()\n",
    "# Add 'UNK' to the vocabulary\n",
    "tk.word_index[tk.oov_token] = max(char_dict.values()) + 1"
   ]
  },
  {
   "cell_type": "code",
   "execution_count": 11,
   "metadata": {},
   "outputs": [],
   "source": [
    "train_texts=total_data"
   ]
  },
  {
   "cell_type": "code",
   "execution_count": 12,
   "metadata": {},
   "outputs": [],
   "source": [
    "sequence=tk.texts_to_sequences(train_texts.ravel())"
   ]
  },
  {
   "cell_type": "code",
   "execution_count": 13,
   "metadata": {},
   "outputs": [],
   "source": [
    "train_data = pad_sequences(sequence, maxlen=2000, padding='post')    "
   ]
  },
  {
   "cell_type": "code",
   "execution_count": 14,
   "metadata": {},
   "outputs": [],
   "source": [
    "train_data=np.array(train_data)"
   ]
  },
  {
   "cell_type": "code",
   "execution_count": 15,
   "metadata": {},
   "outputs": [
    {
     "name": "stdout",
     "output_type": "stream",
     "text": [
      "[0. 0. 0. 0. 0. 1. 0. 0. 0. 0. 0. 0. 0. 0. 0. 0. 0. 1. 0. 0.]\n"
     ]
    }
   ],
   "source": [
    "train_classes = total_data_class\n",
    "print(total_data_class[14561])"
   ]
  },
  {
   "cell_type": "code",
   "execution_count": 16,
   "metadata": {},
   "outputs": [],
   "source": [
    "def recall_m(y_true, y_pred):\n",
    "        true_positives = K.sum(K.round(K.clip(y_true * y_pred, 0, 1)))\n",
    "        possible_positives = K.sum(K.round(K.clip(y_true, 0, 1)))\n",
    "        recall = true_positives / (possible_positives + K.epsilon())\n",
    "        return recall\n",
    "\n",
    "def precision_m(y_true, y_pred):\n",
    "        true_positives = K.sum(K.round(K.clip(y_true * y_pred, 0, 1)))\n",
    "        predicted_positives = K.sum(K.round(K.clip(y_pred, 0, 1)))\n",
    "        precision = true_positives / (predicted_positives + K.epsilon())\n",
    "        return precision\n",
    "\n",
    "def f1_m(y_true, y_pred):\n",
    "    precision = precision_m(y_true, y_pred)\n",
    "    recall = recall_m(y_true, y_pred)\n",
    "    return 2*((precision*recall)/(precision+recall+K.epsilon()))\n"
   ]
  },
  {
   "cell_type": "code",
   "execution_count": 40,
   "metadata": {},
   "outputs": [],
   "source": [
    "def create_execute_model(opt,drop_out):\n",
    "#     K.clear_session()\n",
    "    input_size = 2000\n",
    "    vocab_size = len(tk.word_index)\n",
    "    embedding_size = 69\n",
    "    conv_layers = [[256, 7, 3],\n",
    "                   [256, 7, 3],\n",
    "                   [256, 3, -1],\n",
    "                   [256, 3, -1],\n",
    "                   [256, 3, -1],\n",
    "                   [256, 3, 3]]\n",
    "\n",
    "    fully_connected_layers = [1024, 1024]\n",
    "    num_of_classes = 20\n",
    "    dropout_p = drop_out\n",
    "    optimizer = opt\n",
    "    loss = 'binary_crossentropy'\n",
    "\n",
    "    # Embedding weights\n",
    "    embedding_weights = []  # (70, 69)\n",
    "    embedding_weights.append(np.zeros(vocab_size))  # (0, 69)\n",
    "\n",
    "    for char, i in tk.word_index.items():  # from index 1 to 69\n",
    "        onehot = np.zeros(vocab_size)\n",
    "        onehot[i - 1] = 1\n",
    "        embedding_weights.append(onehot)\n",
    "\n",
    "    embedding_weights = np.array(embedding_weights)\n",
    "    print('Load')\n",
    "\n",
    "    # Embedding layer Initialization\n",
    "    embedding_layer = Embedding(vocab_size + 1,\n",
    "                                embedding_size,\n",
    "                                input_length=input_size,\n",
    "                                weights=[embedding_weights])\n",
    "\n",
    "    # Model Construction\n",
    "    # Input\n",
    "    inputs = Input(shape=(input_size,), name='input', dtype='int64')  # shape=(?, 2000)\n",
    "    # Embedding\n",
    "    x = embedding_layer(inputs)\n",
    "    # Conv\n",
    "    for filter_num, filter_size, pooling_size in conv_layers:\n",
    "        x = Conv1D(filter_num, filter_size)(x)\n",
    "        x = Activation('relu')(x)\n",
    "        if pooling_size != -1:\n",
    "            x = MaxPooling1D(pool_size=pooling_size)(x)  \n",
    "    x = Flatten()(x)  # (None, 8704)\n",
    "    # Fully connected layers\n",
    "    for dense_size in fully_connected_layers:\n",
    "        x = Dense(dense_size, activation='relu')(x)  # dense_size == 1024\n",
    "        x = Dropout(dropout_p)(x)\n",
    "    # Output Layer\n",
    "    predictions = Dense(num_of_classes, activation='sigmoid')(x)\n",
    "    # Build model\n",
    "    model = Model(inputs=inputs, outputs=predictions)\n",
    "    model.compile(optimizer=optimizer, loss=loss, metrics=['categorical_accuracy',recall_m,precision_m,f1_m])  # Adam, binary_crossentropy\n",
    "#     model.summary()\n",
    "    return model\n",
    "\n"
   ]
  },
  {
   "cell_type": "code",
   "execution_count": 18,
   "metadata": {},
   "outputs": [
    {
     "name": "stdout",
     "output_type": "stream",
     "text": [
      "13641\n",
      "17000 17000\n",
      "1189 1189\n"
     ]
    }
   ],
   "source": [
    "# Shuffle\n",
    "indices = np.arange(train_data.shape[0])\n",
    "np.random.shuffle(indices)\n",
    "ind1=int(len(indices)*0.75)\n",
    "x_train = train_data[indices[:17000]]\n",
    "y_train = train_classes[indices[:17000]]\n",
    "\n",
    "x_val = train_data[indices[17000:]]\n",
    "y_val = train_classes[indices[17000:]]\n",
    "\n",
    "# Training\n",
    "print(ind1)\n",
    "print(len(x_train),len(y_train))\n",
    "print(len(x_val),len(y_val))"
   ]
  },
  {
   "cell_type": "code",
   "execution_count": 19,
   "metadata": {},
   "outputs": [],
   "source": [
    "def run_model(model,x_train,y_train,x_val,y_val):\n",
    "    model.fit(x_train, y_train,\n",
    "                  validation_data=(x_val, y_val),\n",
    "                  batch_size=128,\n",
    "                  epochs=20,\n",
    "                  verbose=1)\n",
    "    return model"
   ]
  },
  {
   "cell_type": "code",
   "execution_count": 20,
   "metadata": {},
   "outputs": [],
   "source": [
    "import xml.etree.ElementTree as ET \n",
    "def xml_parser(path) :\n",
    "    #Parsing XML Data\n",
    "    event_dict = {} \n",
    "    arg_dict = {}\n",
    "    event_list = ['NATURAL_EVENT','MAN_MADE_EVENT']\n",
    "    arg_list = ['NATURAL_EVENT','MAN_MADE_EVENT','TIME-ARG','PLACE-ARG','PARTICIPANT-ARG', 'EPICENTRE-ARG', 'INTENSITY-ARG', 'MAGNITUDE-ARG', 'AFTER_EFFECTS-ARG','CASUALTIES-ARG','REASON-ARG'] \n",
    "    #arg_list = ['NATURAL_EVENT','MAN_MADE_EVENT','TIME-ARG','PLACE-ARG','PARTICIPANT-ARG','AFTER_EFFECTS-ARG','CASUALTIES-ARG','REASON-ARG'] \n",
    "    count = {}\n",
    "    sent = []\n",
    "    tags = {}\n",
    "    doc_events = {}\n",
    "    \n",
    "    \n",
    "    import os\n",
    "    for file in os.listdir(path): \n",
    "        \n",
    "        #print(\"-------------------------------------------------------------------------------\") \n",
    "        filename = path + file \n",
    "        sent.append(get_text(filename))\n",
    "        #full_text.append(''.join(sentence_split(filename)))\n",
    "        tree = ET.parse(filename)\n",
    "        root = tree.getroot()\n",
    "\n",
    "        \n",
    "        for tag in event_list: \n",
    "            for event in tree.iter(tag): \n",
    "                text = ''\n",
    "\n",
    "                for i in range(len(event)):\n",
    "                    if type(event[i].text) == str: \n",
    "                            text += event[i].text \n",
    "\n",
    "                    if event[i].tag in event_list:\n",
    "                        for j in range(len(event[i])):\n",
    "                            if type(event[i][j].text) == str: \n",
    "                                text += event[i][j].text\n",
    "                #print('------------yoyo-----------------')            \n",
    "\n",
    "\n",
    "                if tag == 'NATURAL_EVENT' or tag == 'MAN_MADE_EVENT':\n",
    "                    #key = event id - filename\n",
    "                    \n",
    "                    label = event.attrib['TYPE']\n",
    "                    if label == 'CYCLONE' or label == 'BLIZZARD' or label == 'TORNADO' or label == 'HURRICANE' or label == 'HAIL_STORMS' or label == 'STORM':\n",
    "                        label = 'STORM'\n",
    "                    if label == 'SEISMIC_RISK':\n",
    "                        label = \"Earthquake\"\n",
    "                    if label == 'ROCK_FALL':\n",
    "                        label ='LAND_SLIDE'\n",
    "                    if label == 'FOREST_FIRE':\n",
    "                        label = 'FIRE'\n",
    "                    if label == 'AVALANCHES':\n",
    "                        label = 'LAND_SLIDE'\n",
    "                    if label == 'ACCIDENTS' or label == 'VEHICULAR_COLLISION' or label == 'TRAIN_COLLISION':\n",
    "                        label = 'TRANSPORT_HAZARDS'\n",
    "                    if label == 'SUICIDE_ATTACK':\n",
    "                        label ='TERRORIST_ATTACK'\n",
    "                    if label == 'CRIME' or label == 'LIMNIC_ERRUPTIONS' or label == 'FAMINE' or label == 'HEAVY_RAINFALL' or label =='DROUGHT':\n",
    "                        label ='MISCELLANEOUS'\n",
    "                    if label == 'HEAT_WAVE' or label == 'COLD_WAVE':\n",
    "                        label = 'CLIMATE_CHANGE'\n",
    "                    if label == 'EPIDEMIC' or label == 'PANDEMIC' :\n",
    "                        label = 'DISEASE_OUTBREAK'\n",
    "                    \n",
    "                    event_dict[event.attrib['ID'] + '-' + file ] = (label, text)\n",
    "                \n",
    "                    if file not in doc_events:\n",
    "                        doc_events[file] = [label]\n",
    "                    else:\n",
    "                        if label not in doc_events[file]:\n",
    "                            doc_events[file].append(label)\n",
    "                            \n",
    "            \n",
    "    \n",
    "        try:\n",
    "            for type_ in list(set(doc_events[file])):\n",
    "                if type_ not in count:\n",
    "                    count[type_] = 1\n",
    "                else:\n",
    "                    count[type_] = count[type_] + 1\n",
    "        except:\n",
    "            print(file)\n",
    "            continue\n",
    "            \n",
    "        '''try:\n",
    "            print(doc_events[file])\n",
    "        except:\n",
    "            continue\n",
    "        '''\n",
    "                    \n",
    "        \n",
    "        tagged = []\n",
    "        for child in root:\n",
    "\n",
    "            for child1 in child:\n",
    "                link = ''\n",
    "                text = ''\n",
    "\n",
    "                if child1.text != None:\n",
    "                    tagged.append(('O', child1.text.strip())) \n",
    "\n",
    "                if child1.tag in arg_list:\n",
    "                    for child2 in child1:\n",
    "\n",
    "                        if child2.tag == 'LINK' :\n",
    "                            link = child2.attrib['EVENT_ARG']   #the id of the event it is linked to\n",
    "                            tag = child1.tag\n",
    "                            begin_flag = 0\n",
    "                            continue\n",
    "\n",
    "                        elif child2.tag == 'ASSOCIATED-EVENT-LINK':\n",
    "                            link = child2.attrib['EVENT_ID']\n",
    "                            #print('yo', file)\n",
    "                            tag = 'REASON-ARG'\n",
    "                            begin_flag = 0\n",
    "                            continue\n",
    "                            \n",
    "                        elif child1.tag in event_list and child2.text != None and link == '':\n",
    "                            tagged.append(('O', child2.text.strip()))   #events\n",
    "\n",
    "                        if link != '' :\n",
    "                            try:\n",
    "\n",
    "                                text = text + child2.text\n",
    "                                \n",
    "                                #key = arg id - filename\n",
    "                                arg_dict[child1.attrib['ID'] + '-' + file] = (link, tag, text)    \n",
    "                                \n",
    "                                #BIO tagging\n",
    "                                if begin_flag == 0 :\n",
    "                                    tagged.append(('B' + '_' + tag + '__' + event_dict[link + '-' + file][0] + '__' + event_dict[link + '-' + file][1].strip(), child2.text.strip()))\n",
    "                                    begin_flag = 1\n",
    "                                \n",
    "                                else :\n",
    "                                    tagged.append(('I' + '_' + tag + '__' + event_dict[link + '-' + file][0] + '__' + event_dict[link + '-' + file][1].strip() , child2.text.strip()))\n",
    "                            \n",
    "                            \n",
    "                            except:\n",
    "                                continue\n",
    "                       \n",
    "        tags[file] = tagged\n",
    "        \n",
    "    \n",
    "    total = {}\n",
    "    fault = []\n",
    "    for k, v in arg_dict.items():\n",
    "        #key = event id + arg id + filename\n",
    "        key = v[0] + '-' + k.split('-')[0] + '-' + k.split('-')[1]\n",
    "        total[key] = {}\n",
    "        try:\n",
    "            total[key]['event_type'] = event_dict[v[0] + '-' + k.split('-')[1]][0]\n",
    "            total[key]['event_trigger'] = event_dict[v[0] + '-' + k.split('-')[1]][1]\n",
    "            total[key]['arg_type'] = v[1]\n",
    "            total[key]['arg_trigger'] = v[2]\n",
    "        except:\n",
    "            fault.append((v[0] + '-' + k.split('-')[1]))\n",
    "            \n",
    "    #print('FAULTS:', fault)\n",
    "            \n",
    "            \n",
    "    print(count)\n",
    "    return tags, doc_events, count"
   ]
  },
  {
   "cell_type": "code",
   "execution_count": 21,
   "metadata": {},
   "outputs": [],
   "source": [
    "from lxml import etree\n",
    "def get_text(filename):\n",
    "    \n",
    "    tree = etree.parse(filename)\n",
    "    notags = etree.tostring(tree, encoding='unicode', method='text')\n",
    "    \n",
    "    return notags"
   ]
  },
  {
   "cell_type": "code",
   "execution_count": 22,
   "metadata": {},
   "outputs": [
    {
     "name": "stdout",
     "output_type": "stream",
     "text": [
      "{'TRANSPORT_HAZARDS': 116, 'STORM': 5, 'SHOOT_OUT': 8, 'FIRE': 20, 'MISCELLANEOUS': 32, 'NORMAL_BOMBING': 6, 'CLIMATE_CHANGE': 2, 'EARTHQUAKE': 11, 'TSUNAMI': 1, 'SURGICAL_STRIKES': 3, 'INDUSTRIAL_ACCIDENT': 4, 'AVIATION_HAZARD': 5, 'RIOTS': 1, 'TERRORIST_ATTACK': 1, 'LAND_SLIDE': 2, 'ARMED_CONFLICTS': 1}\n",
      "{'FIRE': 129, 'TRANSPORT_HAZARDS': 370, 'MISCELLANEOUS': 42, 'SHOOT_OUT': 66, 'EARTHQUAKE': 53, 'STORM': 55, 'TERRORIST_ATTACK': 38, 'CLIMATE_CHANGE': 12, 'FLOODS': 42, 'SURGICAL_STRIKES': 23, 'NORMAL_BOMBING': 34, 'INDUSTRIAL_ACCIDENT': 20, 'VOLCANO': 17, 'ARMED_CONFLICTS': 3, 'TSUNAMI': 4, 'LAND_SLIDE': 34, 'AVIATION_HAZARD': 14, 'DISEASE_OUTBREAK': 4, 'RIOTS': 3}\n"
     ]
    }
   ],
   "source": [
    "test_data=np.zeros((206,1),dtype=object)\n",
    "total_count=0\n",
    "doc,a,b=xml_parser(\"English/Test/\")\n",
    "i=0\n",
    "for file_name,d in doc.items():\n",
    "    total_count=total_count+1\n",
    "    text=\"\"\n",
    "    for x in d:\n",
    "        text=text+\" \"+x[1]\n",
    "    test_data[i]=text\n",
    "    \n",
    "    i=i+1\n",
    "doc,a,b=xml_parser(\"English/Train/\")\n",
    "i=0\n",
    "for file_name,d in doc.items():\n",
    "    \n",
    "    total_count=total_count+1\n",
    "    text=\"\"\n",
    "    for x in d:\n",
    "        text=text+\" \"+x[1]\n",
    "    test_data=np.append(test_data,np.array([[text]]),axis=0)\n",
    "    \n",
    "        \n",
    "    "
   ]
  },
  {
   "cell_type": "code",
   "execution_count": 23,
   "metadata": {},
   "outputs": [
    {
     "name": "stdout",
     "output_type": "stream",
     "text": [
      "0 ---->> 9\n",
      "1 ---->> 25\n",
      "2 ---->> 70\n",
      "3 ---->> 5\n",
      "4 ---->> 23\n",
      "5 ---->> 59\n",
      "6 ---->> 178\n",
      "7 ---->> 25\n",
      "8 ---->> 624\n",
      "9 ---->> 14\n",
      "10 ---->> 35\n",
      "11 ---->> 1\n",
      "12 ---->> 43\n",
      "13 ---->> 20\n",
      "14 ---->> 37\n",
      "15 ---->> 36\n",
      "16 ---->> 289\n",
      "17 ---->> 10\n",
      "18 ---->> 10\n",
      "19 ---->> 173\n"
     ]
    }
   ],
   "source": [
    "Test_data_classes=np.zeros((len(test_data),20),dtype=float)\n",
    "for i in range(0,len(test_data)):\n",
    "    count=0\n",
    "    words=test_data[i][0].split()\n",
    "\n",
    "    for event,keywords in events.items():\n",
    "        dict_keywords=Convert(keywords)\n",
    "        for word in words:\n",
    "            try:\n",
    "                dict_keywords[word]=dict_keywords[word]+1\n",
    "            except:\n",
    "                continue\n",
    "        count=sum(dict_keywords.values())\n",
    "        if(count>=2):\n",
    "            Test_data_classes[i][event[1]-1]=1\n",
    "        elif(event[1]==14 and count>1):\n",
    "            Test_data_classes[i][event[1]-1]=1\n",
    "    #####################################################################################################\n",
    "    if(np.sum(Test_data_classes[i])==0):\n",
    "        #print(total_data_class[i])\n",
    "        Test_data_classes[i,19]=1\n",
    "\n",
    "for i in range(0,20):\n",
    "    print(i,'---->>',np.count_nonzero(Test_data_classes[:,i]))\n",
    "    \n",
    "    "
   ]
  },
  {
   "cell_type": "code",
   "execution_count": 24,
   "metadata": {},
   "outputs": [],
   "source": [
    "sequence2=tk.texts_to_sequences(test_data.ravel())"
   ]
  },
  {
   "cell_type": "code",
   "execution_count": 25,
   "metadata": {},
   "outputs": [],
   "source": [
    "Test_data = pad_sequences(sequence2, maxlen=2000, padding='post')    "
   ]
  },
  {
   "cell_type": "code",
   "execution_count": 26,
   "metadata": {},
   "outputs": [],
   "source": [
    "Test_data=np.array(Test_data)"
   ]
  },
  {
   "cell_type": "code",
   "execution_count": 27,
   "metadata": {},
   "outputs": [],
   "source": [
    "Test_classes = Test_data_classes"
   ]
  },
  {
   "cell_type": "code",
   "execution_count": 28,
   "metadata": {},
   "outputs": [],
   "source": [
    "def metrics_evaluation(model,i,Test_data,Test_classes,x_val,y_val,x_train,y_train,drp,lri):\n",
    "    val1=model.evaluate(Test_data,Test_classes,verbose=1)\n",
    "    val2=model.evaluate(x_val,y_val,verbose=1)\n",
    "    val3=model.evaluate(x_train,y_train,verbose=1)\n",
    "\n",
    "    val1=np.reshape(val1,(5,1)).T\n",
    "    val2=np.reshape(val2,(5,1)).T\n",
    "    val3=np.reshape(val3,(5,1)).T\n",
    "    val=np.concatenate((val1[:,1:],val2[:,1:],val3[:,1:]),axis=1)\n",
    "    data_storage1[i,0]=lri\n",
    "    data_storage1[i,1]=drp\n",
    "    data_storage1[i,2:]=val\n",
    "    "
   ]
  },
  {
   "cell_type": "code",
   "execution_count": 41,
   "metadata": {},
   "outputs": [],
   "source": [
    "def total_evaluation():\n",
    "    learning=[0.0008,0.001,0.002,0.003,0.004]\n",
    "    drp_ot=[0.3,0.4,0.5,0.6]\n",
    "    i=0\n",
    "    for lri in learning:\n",
    "        for drp in drp_ot:\n",
    "            print(lri)\n",
    "            model=create_execute_model(optimizers.Adam(lr=lri, beta_1=0.9, beta_2=0.999, amsgrad=False),drp)\n",
    "            model=run_model(model,x_train,y_train,x_val,y_val)\n",
    "            metrics_evaluation(model,i,Test_data,Test_classes,x_val,y_val,x_train,y_train,drp,lri)\n",
    "            print('-------------'+str(i)+'---------------')\n",
    "            i=i+1\n",
    "            K.clear_session()\n",
    "            \n",
    "            \n",
    "            \n",
    "            \n",
    "            "
   ]
  },
  {
   "cell_type": "code",
   "execution_count": 42,
   "metadata": {},
   "outputs": [
    {
     "name": "stdout",
     "output_type": "stream",
     "text": [
      "0.0008\n",
      "Load\n"
     ]
    },
    {
     "ename": "ValueError",
     "evalue": "Fetch argument <tf.Variable 'embedding_1/embeddings:0' shape=(70, 69) dtype=float32_ref> cannot be interpreted as a Tensor. (Tensor Tensor(\"embedding_1/embeddings:0\", shape=(70, 69), dtype=float32_ref) is not an element of this graph.)",
     "output_type": "error",
     "traceback": [
      "\u001b[0;31m---------------------------------------------------------------------------\u001b[0m",
      "\u001b[0;31mValueError\u001b[0m                                Traceback (most recent call last)",
      "\u001b[0;32m~/anaconda3/envs/tensorflow_p36/lib/python3.6/site-packages/tensorflow/python/client/session.py\u001b[0m in \u001b[0;36m__init__\u001b[0;34m(self, fetches, contraction_fn)\u001b[0m\n\u001b[1;32m    302\u001b[0m         self._unique_fetches.append(ops.get_default_graph().as_graph_element(\n\u001b[0;32m--> 303\u001b[0;31m             fetch, allow_tensor=True, allow_operation=True))\n\u001b[0m\u001b[1;32m    304\u001b[0m       \u001b[0;32mexcept\u001b[0m \u001b[0mTypeError\u001b[0m \u001b[0;32mas\u001b[0m \u001b[0me\u001b[0m\u001b[0;34m:\u001b[0m\u001b[0;34m\u001b[0m\u001b[0m\n",
      "\u001b[0;32m~/anaconda3/envs/tensorflow_p36/lib/python3.6/site-packages/tensorflow/python/framework/ops.py\u001b[0m in \u001b[0;36mas_graph_element\u001b[0;34m(self, obj, allow_tensor, allow_operation)\u001b[0m\n\u001b[1;32m   3795\u001b[0m     \u001b[0;32mwith\u001b[0m \u001b[0mself\u001b[0m\u001b[0;34m.\u001b[0m\u001b[0m_lock\u001b[0m\u001b[0;34m:\u001b[0m\u001b[0;34m\u001b[0m\u001b[0m\n\u001b[0;32m-> 3796\u001b[0;31m       \u001b[0;32mreturn\u001b[0m \u001b[0mself\u001b[0m\u001b[0;34m.\u001b[0m\u001b[0m_as_graph_element_locked\u001b[0m\u001b[0;34m(\u001b[0m\u001b[0mobj\u001b[0m\u001b[0;34m,\u001b[0m \u001b[0mallow_tensor\u001b[0m\u001b[0;34m,\u001b[0m \u001b[0mallow_operation\u001b[0m\u001b[0;34m)\u001b[0m\u001b[0;34m\u001b[0m\u001b[0m\n\u001b[0m\u001b[1;32m   3797\u001b[0m \u001b[0;34m\u001b[0m\u001b[0m\n",
      "\u001b[0;32m~/anaconda3/envs/tensorflow_p36/lib/python3.6/site-packages/tensorflow/python/framework/ops.py\u001b[0m in \u001b[0;36m_as_graph_element_locked\u001b[0;34m(self, obj, allow_tensor, allow_operation)\u001b[0m\n\u001b[1;32m   3874\u001b[0m       \u001b[0;32mif\u001b[0m \u001b[0mobj\u001b[0m\u001b[0;34m.\u001b[0m\u001b[0mgraph\u001b[0m \u001b[0;32mis\u001b[0m \u001b[0;32mnot\u001b[0m \u001b[0mself\u001b[0m\u001b[0;34m:\u001b[0m\u001b[0;34m\u001b[0m\u001b[0m\n\u001b[0;32m-> 3875\u001b[0;31m         \u001b[0;32mraise\u001b[0m \u001b[0mValueError\u001b[0m\u001b[0;34m(\u001b[0m\u001b[0;34m\"Tensor %s is not an element of this graph.\"\u001b[0m \u001b[0;34m%\u001b[0m \u001b[0mobj\u001b[0m\u001b[0;34m)\u001b[0m\u001b[0;34m\u001b[0m\u001b[0m\n\u001b[0m\u001b[1;32m   3876\u001b[0m       \u001b[0;32mreturn\u001b[0m \u001b[0mobj\u001b[0m\u001b[0;34m\u001b[0m\u001b[0m\n",
      "\u001b[0;31mValueError\u001b[0m: Tensor Tensor(\"embedding_1/embeddings:0\", shape=(70, 69), dtype=float32_ref) is not an element of this graph.",
      "\nDuring handling of the above exception, another exception occurred:\n",
      "\u001b[0;31mValueError\u001b[0m                                Traceback (most recent call last)",
      "\u001b[0;32m<ipython-input-42-9bb321f6db63>\u001b[0m in \u001b[0;36m<module>\u001b[0;34m()\u001b[0m\n\u001b[0;32m----> 1\u001b[0;31m \u001b[0mtotal_evaluation\u001b[0m\u001b[0;34m(\u001b[0m\u001b[0;34m)\u001b[0m\u001b[0;34m\u001b[0m\u001b[0m\n\u001b[0m",
      "\u001b[0;32m<ipython-input-41-d4678d46647b>\u001b[0m in \u001b[0;36mtotal_evaluation\u001b[0;34m()\u001b[0m\n\u001b[1;32m      6\u001b[0m         \u001b[0;32mfor\u001b[0m \u001b[0mdrp\u001b[0m \u001b[0;32min\u001b[0m \u001b[0mdrp_ot\u001b[0m\u001b[0;34m:\u001b[0m\u001b[0;34m\u001b[0m\u001b[0m\n\u001b[1;32m      7\u001b[0m             \u001b[0mprint\u001b[0m\u001b[0;34m(\u001b[0m\u001b[0mlri\u001b[0m\u001b[0;34m)\u001b[0m\u001b[0;34m\u001b[0m\u001b[0m\n\u001b[0;32m----> 8\u001b[0;31m             \u001b[0mmodel\u001b[0m\u001b[0;34m=\u001b[0m\u001b[0mcreate_execute_model\u001b[0m\u001b[0;34m(\u001b[0m\u001b[0moptimizers\u001b[0m\u001b[0;34m.\u001b[0m\u001b[0mAdam\u001b[0m\u001b[0;34m(\u001b[0m\u001b[0mlr\u001b[0m\u001b[0;34m=\u001b[0m\u001b[0mlri\u001b[0m\u001b[0;34m,\u001b[0m \u001b[0mbeta_1\u001b[0m\u001b[0;34m=\u001b[0m\u001b[0;36m0.9\u001b[0m\u001b[0;34m,\u001b[0m \u001b[0mbeta_2\u001b[0m\u001b[0;34m=\u001b[0m\u001b[0;36m0.999\u001b[0m\u001b[0;34m,\u001b[0m \u001b[0mamsgrad\u001b[0m\u001b[0;34m=\u001b[0m\u001b[0;32mFalse\u001b[0m\u001b[0;34m)\u001b[0m\u001b[0;34m,\u001b[0m\u001b[0mdrp\u001b[0m\u001b[0;34m)\u001b[0m\u001b[0;34m\u001b[0m\u001b[0m\n\u001b[0m\u001b[1;32m      9\u001b[0m             \u001b[0mmodel\u001b[0m\u001b[0;34m=\u001b[0m\u001b[0mrun_model\u001b[0m\u001b[0;34m(\u001b[0m\u001b[0mmodel\u001b[0m\u001b[0;34m,\u001b[0m\u001b[0mx_train\u001b[0m\u001b[0;34m,\u001b[0m\u001b[0my_train\u001b[0m\u001b[0;34m,\u001b[0m\u001b[0mx_val\u001b[0m\u001b[0;34m,\u001b[0m\u001b[0my_val\u001b[0m\u001b[0;34m)\u001b[0m\u001b[0;34m\u001b[0m\u001b[0m\n\u001b[1;32m     10\u001b[0m             \u001b[0mmetrics_evaluation\u001b[0m\u001b[0;34m(\u001b[0m\u001b[0mmodel\u001b[0m\u001b[0;34m,\u001b[0m\u001b[0mi\u001b[0m\u001b[0;34m,\u001b[0m\u001b[0mTest_data\u001b[0m\u001b[0;34m,\u001b[0m\u001b[0mTest_classes\u001b[0m\u001b[0;34m,\u001b[0m\u001b[0mx_val\u001b[0m\u001b[0;34m,\u001b[0m\u001b[0my_val\u001b[0m\u001b[0;34m,\u001b[0m\u001b[0mx_train\u001b[0m\u001b[0;34m,\u001b[0m\u001b[0my_train\u001b[0m\u001b[0;34m,\u001b[0m\u001b[0mdrp\u001b[0m\u001b[0;34m,\u001b[0m\u001b[0mlri\u001b[0m\u001b[0;34m)\u001b[0m\u001b[0;34m\u001b[0m\u001b[0m\n",
      "\u001b[0;32m<ipython-input-40-39d1ffe0343a>\u001b[0m in \u001b[0;36mcreate_execute_model\u001b[0;34m(opt, drop_out)\u001b[0m\n\u001b[1;32m     39\u001b[0m     \u001b[0minputs\u001b[0m \u001b[0;34m=\u001b[0m \u001b[0mInput\u001b[0m\u001b[0;34m(\u001b[0m\u001b[0mshape\u001b[0m\u001b[0;34m=\u001b[0m\u001b[0;34m(\u001b[0m\u001b[0minput_size\u001b[0m\u001b[0;34m,\u001b[0m\u001b[0;34m)\u001b[0m\u001b[0;34m,\u001b[0m \u001b[0mname\u001b[0m\u001b[0;34m=\u001b[0m\u001b[0;34m'input'\u001b[0m\u001b[0;34m,\u001b[0m \u001b[0mdtype\u001b[0m\u001b[0;34m=\u001b[0m\u001b[0;34m'int64'\u001b[0m\u001b[0;34m)\u001b[0m  \u001b[0;31m# shape=(?, 2000)\u001b[0m\u001b[0;34m\u001b[0m\u001b[0m\n\u001b[1;32m     40\u001b[0m     \u001b[0;31m# Embedding\u001b[0m\u001b[0;34m\u001b[0m\u001b[0;34m\u001b[0m\u001b[0m\n\u001b[0;32m---> 41\u001b[0;31m     \u001b[0mx\u001b[0m \u001b[0;34m=\u001b[0m \u001b[0membedding_layer\u001b[0m\u001b[0;34m(\u001b[0m\u001b[0minputs\u001b[0m\u001b[0;34m)\u001b[0m\u001b[0;34m\u001b[0m\u001b[0m\n\u001b[0m\u001b[1;32m     42\u001b[0m     \u001b[0;31m# Conv\u001b[0m\u001b[0;34m\u001b[0m\u001b[0;34m\u001b[0m\u001b[0m\n\u001b[1;32m     43\u001b[0m     \u001b[0;32mfor\u001b[0m \u001b[0mfilter_num\u001b[0m\u001b[0;34m,\u001b[0m \u001b[0mfilter_size\u001b[0m\u001b[0;34m,\u001b[0m \u001b[0mpooling_size\u001b[0m \u001b[0;32min\u001b[0m \u001b[0mconv_layers\u001b[0m\u001b[0;34m:\u001b[0m\u001b[0;34m\u001b[0m\u001b[0m\n",
      "\u001b[0;32m~/anaconda3/envs/tensorflow_p36/lib/python3.6/site-packages/keras/engine/base_layer.py\u001b[0m in \u001b[0;36m__call__\u001b[0;34m(self, inputs, **kwargs)\u001b[0m\n\u001b[1;32m    434\u001b[0m                 \u001b[0;31m# Load weights that were specified at layer instantiation.\u001b[0m\u001b[0;34m\u001b[0m\u001b[0;34m\u001b[0m\u001b[0m\n\u001b[1;32m    435\u001b[0m                 \u001b[0;32mif\u001b[0m \u001b[0mself\u001b[0m\u001b[0;34m.\u001b[0m\u001b[0m_initial_weights\u001b[0m \u001b[0;32mis\u001b[0m \u001b[0;32mnot\u001b[0m \u001b[0;32mNone\u001b[0m\u001b[0;34m:\u001b[0m\u001b[0;34m\u001b[0m\u001b[0m\n\u001b[0;32m--> 436\u001b[0;31m                     \u001b[0mself\u001b[0m\u001b[0;34m.\u001b[0m\u001b[0mset_weights\u001b[0m\u001b[0;34m(\u001b[0m\u001b[0mself\u001b[0m\u001b[0;34m.\u001b[0m\u001b[0m_initial_weights\u001b[0m\u001b[0;34m)\u001b[0m\u001b[0;34m\u001b[0m\u001b[0m\n\u001b[0m\u001b[1;32m    437\u001b[0m \u001b[0;34m\u001b[0m\u001b[0m\n\u001b[1;32m    438\u001b[0m             \u001b[0;31m# Raise exceptions in case the input is not compatible\u001b[0m\u001b[0;34m\u001b[0m\u001b[0;34m\u001b[0m\u001b[0m\n",
      "\u001b[0;32m~/anaconda3/envs/tensorflow_p36/lib/python3.6/site-packages/keras/engine/base_layer.py\u001b[0m in \u001b[0;36mset_weights\u001b[0;34m(self, weights)\u001b[0m\n\u001b[1;32m   1049\u001b[0m             \u001b[0;32mreturn\u001b[0m\u001b[0;34m\u001b[0m\u001b[0m\n\u001b[1;32m   1050\u001b[0m         \u001b[0mweight_value_tuples\u001b[0m \u001b[0;34m=\u001b[0m \u001b[0;34m[\u001b[0m\u001b[0;34m]\u001b[0m\u001b[0;34m\u001b[0m\u001b[0m\n\u001b[0;32m-> 1051\u001b[0;31m         \u001b[0mparam_values\u001b[0m \u001b[0;34m=\u001b[0m \u001b[0mK\u001b[0m\u001b[0;34m.\u001b[0m\u001b[0mbatch_get_value\u001b[0m\u001b[0;34m(\u001b[0m\u001b[0mparams\u001b[0m\u001b[0;34m)\u001b[0m\u001b[0;34m\u001b[0m\u001b[0m\n\u001b[0m\u001b[1;32m   1052\u001b[0m         \u001b[0;32mfor\u001b[0m \u001b[0mpv\u001b[0m\u001b[0;34m,\u001b[0m \u001b[0mp\u001b[0m\u001b[0;34m,\u001b[0m \u001b[0mw\u001b[0m \u001b[0;32min\u001b[0m \u001b[0mzip\u001b[0m\u001b[0;34m(\u001b[0m\u001b[0mparam_values\u001b[0m\u001b[0;34m,\u001b[0m \u001b[0mparams\u001b[0m\u001b[0;34m,\u001b[0m \u001b[0mweights\u001b[0m\u001b[0;34m)\u001b[0m\u001b[0;34m:\u001b[0m\u001b[0;34m\u001b[0m\u001b[0m\n\u001b[1;32m   1053\u001b[0m             \u001b[0;32mif\u001b[0m \u001b[0mpv\u001b[0m\u001b[0;34m.\u001b[0m\u001b[0mshape\u001b[0m \u001b[0;34m!=\u001b[0m \u001b[0mw\u001b[0m\u001b[0;34m.\u001b[0m\u001b[0mshape\u001b[0m\u001b[0;34m:\u001b[0m\u001b[0;34m\u001b[0m\u001b[0m\n",
      "\u001b[0;32m~/anaconda3/envs/tensorflow_p36/lib/python3.6/site-packages/keras/backend/tensorflow_backend.py\u001b[0m in \u001b[0;36mbatch_get_value\u001b[0;34m(ops)\u001b[0m\n\u001b[1;32m   2418\u001b[0m     \"\"\"\n\u001b[1;32m   2419\u001b[0m     \u001b[0;32mif\u001b[0m \u001b[0mops\u001b[0m\u001b[0;34m:\u001b[0m\u001b[0;34m\u001b[0m\u001b[0m\n\u001b[0;32m-> 2420\u001b[0;31m         \u001b[0;32mreturn\u001b[0m \u001b[0mget_session\u001b[0m\u001b[0;34m(\u001b[0m\u001b[0;34m)\u001b[0m\u001b[0;34m.\u001b[0m\u001b[0mrun\u001b[0m\u001b[0;34m(\u001b[0m\u001b[0mops\u001b[0m\u001b[0;34m)\u001b[0m\u001b[0;34m\u001b[0m\u001b[0m\n\u001b[0m\u001b[1;32m   2421\u001b[0m     \u001b[0;32melse\u001b[0m\u001b[0;34m:\u001b[0m\u001b[0;34m\u001b[0m\u001b[0m\n\u001b[1;32m   2422\u001b[0m         \u001b[0;32mreturn\u001b[0m \u001b[0;34m[\u001b[0m\u001b[0;34m]\u001b[0m\u001b[0;34m\u001b[0m\u001b[0m\n",
      "\u001b[0;32m~/anaconda3/envs/tensorflow_p36/lib/python3.6/site-packages/tensorflow/python/client/session.py\u001b[0m in \u001b[0;36mrun\u001b[0;34m(self, fetches, feed_dict, options, run_metadata)\u001b[0m\n\u001b[1;32m    948\u001b[0m     \u001b[0;32mtry\u001b[0m\u001b[0;34m:\u001b[0m\u001b[0;34m\u001b[0m\u001b[0m\n\u001b[1;32m    949\u001b[0m       result = self._run(None, fetches, feed_dict, options_ptr,\n\u001b[0;32m--> 950\u001b[0;31m                          run_metadata_ptr)\n\u001b[0m\u001b[1;32m    951\u001b[0m       \u001b[0;32mif\u001b[0m \u001b[0mrun_metadata\u001b[0m\u001b[0;34m:\u001b[0m\u001b[0;34m\u001b[0m\u001b[0m\n\u001b[1;32m    952\u001b[0m         \u001b[0mproto_data\u001b[0m \u001b[0;34m=\u001b[0m \u001b[0mtf_session\u001b[0m\u001b[0;34m.\u001b[0m\u001b[0mTF_GetBuffer\u001b[0m\u001b[0;34m(\u001b[0m\u001b[0mrun_metadata_ptr\u001b[0m\u001b[0;34m)\u001b[0m\u001b[0;34m\u001b[0m\u001b[0m\n",
      "\u001b[0;32m~/anaconda3/envs/tensorflow_p36/lib/python3.6/site-packages/tensorflow/python/client/session.py\u001b[0m in \u001b[0;36m_run\u001b[0;34m(self, handle, fetches, feed_dict, options, run_metadata)\u001b[0m\n\u001b[1;32m   1156\u001b[0m     \u001b[0;31m# Create a fetch handler to take care of the structure of fetches.\u001b[0m\u001b[0;34m\u001b[0m\u001b[0;34m\u001b[0m\u001b[0m\n\u001b[1;32m   1157\u001b[0m     fetch_handler = _FetchHandler(\n\u001b[0;32m-> 1158\u001b[0;31m         self._graph, fetches, feed_dict_tensor, feed_handles=feed_handles)\n\u001b[0m\u001b[1;32m   1159\u001b[0m \u001b[0;34m\u001b[0m\u001b[0m\n\u001b[1;32m   1160\u001b[0m     \u001b[0;31m# Run request and get response.\u001b[0m\u001b[0;34m\u001b[0m\u001b[0;34m\u001b[0m\u001b[0m\n",
      "\u001b[0;32m~/anaconda3/envs/tensorflow_p36/lib/python3.6/site-packages/tensorflow/python/client/session.py\u001b[0m in \u001b[0;36m__init__\u001b[0;34m(self, graph, fetches, feeds, feed_handles)\u001b[0m\n\u001b[1;32m    472\u001b[0m     \"\"\"\n\u001b[1;32m    473\u001b[0m     \u001b[0;32mwith\u001b[0m \u001b[0mgraph\u001b[0m\u001b[0;34m.\u001b[0m\u001b[0mas_default\u001b[0m\u001b[0;34m(\u001b[0m\u001b[0;34m)\u001b[0m\u001b[0;34m:\u001b[0m\u001b[0;34m\u001b[0m\u001b[0m\n\u001b[0;32m--> 474\u001b[0;31m       \u001b[0mself\u001b[0m\u001b[0;34m.\u001b[0m\u001b[0m_fetch_mapper\u001b[0m \u001b[0;34m=\u001b[0m \u001b[0m_FetchMapper\u001b[0m\u001b[0;34m.\u001b[0m\u001b[0mfor_fetch\u001b[0m\u001b[0;34m(\u001b[0m\u001b[0mfetches\u001b[0m\u001b[0;34m)\u001b[0m\u001b[0;34m\u001b[0m\u001b[0m\n\u001b[0m\u001b[1;32m    475\u001b[0m     \u001b[0mself\u001b[0m\u001b[0;34m.\u001b[0m\u001b[0m_fetches\u001b[0m \u001b[0;34m=\u001b[0m \u001b[0;34m[\u001b[0m\u001b[0;34m]\u001b[0m\u001b[0;34m\u001b[0m\u001b[0m\n\u001b[1;32m    476\u001b[0m     \u001b[0mself\u001b[0m\u001b[0;34m.\u001b[0m\u001b[0m_targets\u001b[0m \u001b[0;34m=\u001b[0m \u001b[0;34m[\u001b[0m\u001b[0;34m]\u001b[0m\u001b[0;34m\u001b[0m\u001b[0m\n",
      "\u001b[0;32m~/anaconda3/envs/tensorflow_p36/lib/python3.6/site-packages/tensorflow/python/client/session.py\u001b[0m in \u001b[0;36mfor_fetch\u001b[0;34m(fetch)\u001b[0m\n\u001b[1;32m    262\u001b[0m     \u001b[0;32melif\u001b[0m \u001b[0misinstance\u001b[0m\u001b[0;34m(\u001b[0m\u001b[0mfetch\u001b[0m\u001b[0;34m,\u001b[0m \u001b[0;34m(\u001b[0m\u001b[0mlist\u001b[0m\u001b[0;34m,\u001b[0m \u001b[0mtuple\u001b[0m\u001b[0;34m)\u001b[0m\u001b[0;34m)\u001b[0m\u001b[0;34m:\u001b[0m\u001b[0;34m\u001b[0m\u001b[0m\n\u001b[1;32m    263\u001b[0m       \u001b[0;31m# NOTE(touts): This is also the code path for namedtuples.\u001b[0m\u001b[0;34m\u001b[0m\u001b[0;34m\u001b[0m\u001b[0m\n\u001b[0;32m--> 264\u001b[0;31m       \u001b[0;32mreturn\u001b[0m \u001b[0m_ListFetchMapper\u001b[0m\u001b[0;34m(\u001b[0m\u001b[0mfetch\u001b[0m\u001b[0;34m)\u001b[0m\u001b[0;34m\u001b[0m\u001b[0m\n\u001b[0m\u001b[1;32m    265\u001b[0m     \u001b[0;32melif\u001b[0m \u001b[0misinstance\u001b[0m\u001b[0;34m(\u001b[0m\u001b[0mfetch\u001b[0m\u001b[0;34m,\u001b[0m \u001b[0mcollections\u001b[0m\u001b[0;34m.\u001b[0m\u001b[0mMapping\u001b[0m\u001b[0;34m)\u001b[0m\u001b[0;34m:\u001b[0m\u001b[0;34m\u001b[0m\u001b[0m\n\u001b[1;32m    266\u001b[0m       \u001b[0;32mreturn\u001b[0m \u001b[0m_DictFetchMapper\u001b[0m\u001b[0;34m(\u001b[0m\u001b[0mfetch\u001b[0m\u001b[0;34m)\u001b[0m\u001b[0;34m\u001b[0m\u001b[0m\n",
      "\u001b[0;32m~/anaconda3/envs/tensorflow_p36/lib/python3.6/site-packages/tensorflow/python/client/session.py\u001b[0m in \u001b[0;36m__init__\u001b[0;34m(self, fetches)\u001b[0m\n\u001b[1;32m    371\u001b[0m     \"\"\"\n\u001b[1;32m    372\u001b[0m     \u001b[0mself\u001b[0m\u001b[0;34m.\u001b[0m\u001b[0m_fetch_type\u001b[0m \u001b[0;34m=\u001b[0m \u001b[0mtype\u001b[0m\u001b[0;34m(\u001b[0m\u001b[0mfetches\u001b[0m\u001b[0;34m)\u001b[0m\u001b[0;34m\u001b[0m\u001b[0m\n\u001b[0;32m--> 373\u001b[0;31m     \u001b[0mself\u001b[0m\u001b[0;34m.\u001b[0m\u001b[0m_mappers\u001b[0m \u001b[0;34m=\u001b[0m \u001b[0;34m[\u001b[0m\u001b[0m_FetchMapper\u001b[0m\u001b[0;34m.\u001b[0m\u001b[0mfor_fetch\u001b[0m\u001b[0;34m(\u001b[0m\u001b[0mfetch\u001b[0m\u001b[0;34m)\u001b[0m \u001b[0;32mfor\u001b[0m \u001b[0mfetch\u001b[0m \u001b[0;32min\u001b[0m \u001b[0mfetches\u001b[0m\u001b[0;34m]\u001b[0m\u001b[0;34m\u001b[0m\u001b[0m\n\u001b[0m\u001b[1;32m    374\u001b[0m     \u001b[0mself\u001b[0m\u001b[0;34m.\u001b[0m\u001b[0m_unique_fetches\u001b[0m\u001b[0;34m,\u001b[0m \u001b[0mself\u001b[0m\u001b[0;34m.\u001b[0m\u001b[0m_value_indices\u001b[0m \u001b[0;34m=\u001b[0m \u001b[0m_uniquify_fetches\u001b[0m\u001b[0;34m(\u001b[0m\u001b[0mself\u001b[0m\u001b[0;34m.\u001b[0m\u001b[0m_mappers\u001b[0m\u001b[0;34m)\u001b[0m\u001b[0;34m\u001b[0m\u001b[0m\n\u001b[1;32m    375\u001b[0m \u001b[0;34m\u001b[0m\u001b[0m\n",
      "\u001b[0;32m~/anaconda3/envs/tensorflow_p36/lib/python3.6/site-packages/tensorflow/python/client/session.py\u001b[0m in \u001b[0;36m<listcomp>\u001b[0;34m(.0)\u001b[0m\n\u001b[1;32m    371\u001b[0m     \"\"\"\n\u001b[1;32m    372\u001b[0m     \u001b[0mself\u001b[0m\u001b[0;34m.\u001b[0m\u001b[0m_fetch_type\u001b[0m \u001b[0;34m=\u001b[0m \u001b[0mtype\u001b[0m\u001b[0;34m(\u001b[0m\u001b[0mfetches\u001b[0m\u001b[0;34m)\u001b[0m\u001b[0;34m\u001b[0m\u001b[0m\n\u001b[0;32m--> 373\u001b[0;31m     \u001b[0mself\u001b[0m\u001b[0;34m.\u001b[0m\u001b[0m_mappers\u001b[0m \u001b[0;34m=\u001b[0m \u001b[0;34m[\u001b[0m\u001b[0m_FetchMapper\u001b[0m\u001b[0;34m.\u001b[0m\u001b[0mfor_fetch\u001b[0m\u001b[0;34m(\u001b[0m\u001b[0mfetch\u001b[0m\u001b[0;34m)\u001b[0m \u001b[0;32mfor\u001b[0m \u001b[0mfetch\u001b[0m \u001b[0;32min\u001b[0m \u001b[0mfetches\u001b[0m\u001b[0;34m]\u001b[0m\u001b[0;34m\u001b[0m\u001b[0m\n\u001b[0m\u001b[1;32m    374\u001b[0m     \u001b[0mself\u001b[0m\u001b[0;34m.\u001b[0m\u001b[0m_unique_fetches\u001b[0m\u001b[0;34m,\u001b[0m \u001b[0mself\u001b[0m\u001b[0;34m.\u001b[0m\u001b[0m_value_indices\u001b[0m \u001b[0;34m=\u001b[0m \u001b[0m_uniquify_fetches\u001b[0m\u001b[0;34m(\u001b[0m\u001b[0mself\u001b[0m\u001b[0;34m.\u001b[0m\u001b[0m_mappers\u001b[0m\u001b[0;34m)\u001b[0m\u001b[0;34m\u001b[0m\u001b[0m\n\u001b[1;32m    375\u001b[0m \u001b[0;34m\u001b[0m\u001b[0m\n",
      "\u001b[0;32m~/anaconda3/envs/tensorflow_p36/lib/python3.6/site-packages/tensorflow/python/client/session.py\u001b[0m in \u001b[0;36mfor_fetch\u001b[0;34m(fetch)\u001b[0m\n\u001b[1;32m    272\u001b[0m         \u001b[0;32mif\u001b[0m \u001b[0misinstance\u001b[0m\u001b[0;34m(\u001b[0m\u001b[0mfetch\u001b[0m\u001b[0;34m,\u001b[0m \u001b[0mtensor_type\u001b[0m\u001b[0;34m)\u001b[0m\u001b[0;34m:\u001b[0m\u001b[0;34m\u001b[0m\u001b[0m\n\u001b[1;32m    273\u001b[0m           \u001b[0mfetches\u001b[0m\u001b[0;34m,\u001b[0m \u001b[0mcontraction_fn\u001b[0m \u001b[0;34m=\u001b[0m \u001b[0mfetch_fn\u001b[0m\u001b[0;34m(\u001b[0m\u001b[0mfetch\u001b[0m\u001b[0;34m)\u001b[0m\u001b[0;34m\u001b[0m\u001b[0m\n\u001b[0;32m--> 274\u001b[0;31m           \u001b[0;32mreturn\u001b[0m \u001b[0m_ElementFetchMapper\u001b[0m\u001b[0;34m(\u001b[0m\u001b[0mfetches\u001b[0m\u001b[0;34m,\u001b[0m \u001b[0mcontraction_fn\u001b[0m\u001b[0;34m)\u001b[0m\u001b[0;34m\u001b[0m\u001b[0m\n\u001b[0m\u001b[1;32m    275\u001b[0m     \u001b[0;31m# Did not find anything.\u001b[0m\u001b[0;34m\u001b[0m\u001b[0;34m\u001b[0m\u001b[0m\n\u001b[1;32m    276\u001b[0m     raise TypeError('Fetch argument %r has invalid type %r' % (fetch,\n",
      "\u001b[0;32m~/anaconda3/envs/tensorflow_p36/lib/python3.6/site-packages/tensorflow/python/client/session.py\u001b[0m in \u001b[0;36m__init__\u001b[0;34m(self, fetches, contraction_fn)\u001b[0m\n\u001b[1;32m    308\u001b[0m       \u001b[0;32mexcept\u001b[0m \u001b[0mValueError\u001b[0m \u001b[0;32mas\u001b[0m \u001b[0me\u001b[0m\u001b[0;34m:\u001b[0m\u001b[0;34m\u001b[0m\u001b[0m\n\u001b[1;32m    309\u001b[0m         raise ValueError('Fetch argument %r cannot be interpreted as a '\n\u001b[0;32m--> 310\u001b[0;31m                          'Tensor. (%s)' % (fetch, str(e)))\n\u001b[0m\u001b[1;32m    311\u001b[0m       \u001b[0;32mexcept\u001b[0m \u001b[0mKeyError\u001b[0m \u001b[0;32mas\u001b[0m \u001b[0me\u001b[0m\u001b[0;34m:\u001b[0m\u001b[0;34m\u001b[0m\u001b[0m\n\u001b[1;32m    312\u001b[0m         raise ValueError('Fetch argument %r cannot be interpreted as a '\n",
      "\u001b[0;31mValueError\u001b[0m: Fetch argument <tf.Variable 'embedding_1/embeddings:0' shape=(70, 69) dtype=float32_ref> cannot be interpreted as a Tensor. (Tensor Tensor(\"embedding_1/embeddings:0\", shape=(70, 69), dtype=float32_ref) is not an element of this graph.)"
     ]
    }
   ],
   "source": [
    "total_evaluation()"
   ]
  },
  {
   "cell_type": "code",
   "execution_count": 129,
   "metadata": {},
   "outputs": [
    {
     "data": {
      "image/png": "[encoded data removed]",
      "text/plain": [
       "<Figure size 432x288 with 1 Axes>"
      ]
     },
     "metadata": {},
     "output_type": "display_data"
    }
   ],
   "source": [
    "pl.plot(data_storage1[:,0],data_storage1[:,4], label='test')\n",
    "pl.plot( data_storage1[:,0],data_storage1[:,8], label='val')\n",
    "pl.plot( data_storage1[:,0],data_storage1[:,12], label='train')\n",
    "pl.xlabel('number of training data')\n",
    "pl.ylabel('f1')\n",
    "pl.title('f1 vs dropout')\n",
    "pl.legend()\n",
    "pl.savefig('f1.png')\n",
    "pl.show()"
   ]
  },
  {
   "cell_type": "code",
   "execution_count": 60,
   "metadata": {},
   "outputs": [],
   "source": [
    "def perlabel_accuracy(y,yp):\n",
    "    graph=np.zeros((19,5),dtype=float)\n",
    "    for col in range (0,19):\n",
    "        metriccount=[0,0,0,0]\n",
    "        trc=y[:,col]\n",
    "        tec=yp[:,col]\n",
    "        for i in range(0,len(y)):\n",
    "            if(trc[i]==1.0 and tec[i]==1.0):\n",
    "                metriccount[0]=metriccount[0]+1\n",
    "            if(trc[i]==0.0 and tec[i]==0.0):\n",
    "                metriccount[1]=metriccount[1]+1\n",
    "            if(trc[i]==0.0 and tec[i]==1.0):\n",
    "                metriccount[2]=metriccount[2]+1\n",
    "            if(trc[i]==1.0 and tec[i]==0.0):\n",
    "                metriccount[3]=metriccount[3]+1\n",
    "        try:\n",
    "            acc=(metriccount[0]+metriccount[1])/(metriccount[0]+metriccount[1]+metriccount[2]+metriccount[3])\n",
    "        except:\n",
    "            acc=0\n",
    "        try:\n",
    "            recall=metriccount[0]/(metriccount[0]+metriccount[3])\n",
    "        except:\n",
    "            recall=0\n",
    "        try:\n",
    "            precision=metriccount[0]/(metriccount[0]+metriccount[2])\n",
    "        except:\n",
    "            precison=0\n",
    "        try:\n",
    "            f1=2*recall*precision/(recall+precision)\n",
    "        except:\n",
    "            f1=0\n",
    "        graph[col,0]=acc\n",
    "        graph[col,1]=recall\n",
    "        graph[col,2]=precision\n",
    "        graph[col,3]=f1\n",
    "        graph[col,4]=total_files_scrapped[col,0]\n",
    "        print(event_space[col]+'-->'+'acc:'+str(acc)+'--'+'recall:'+str(recall)+'--'+'precision:'+str(precision)+'--'+'f1:'+str(f1))\n",
    "            \n",
    "    return graph        "
   ]
  },
  {
   "cell_type": "code",
   "execution_count": 61,
   "metadata": {},
   "outputs": [
    {
     "name": "stdout",
     "output_type": "stream",
     "text": [
      "Avalanches-->acc:0.9932301740812379--recall:0.2222222222222222--precision:1.0--f1:0.3636363636363636\n",
      "Aviation_Hazard-->acc:0.9835589941972921--recall:0.76--precision:0.6333333333333333--f1:0.6909090909090909\n",
      "Armed_conflicts-->acc:0.9574468085106383--recall:0.5428571428571428--precision:0.76--f1:0.6333333333333332\n",
      "Climate_change-->acc:0.9961315280464217--recall:0.4--precision:0.6666666666666666--f1:0.5\n",
      "Disease_outbreak-->acc:0.9777562862669246--recall:0.13043478260869565--precision:0.5--f1:0.20689655172413793\n",
      "Earthquake-->acc:0.9816247582205029--recall:0.711864406779661--precision:0.9545454545454546--f1:0.8155339805825244\n",
      "Fire-->acc:0.7911025145067698--recall:0.16853932584269662--precision:0.30612244897959184--f1:0.2173913043478261\n",
      "Flood-->acc:0.971953578336557--recall:0.4--precision:0.4166666666666667--f1:0.4081632653061225\n",
      "Industrial_accident-->acc:0.7572533849129593--recall:0.6282051282051282--precision:0.9537712895377128--f1:0.7574879227053141\n",
      "Landslide-->acc:0.9680851063829787--recall:0.07142857142857142--precision:0.047619047619047616--f1:0.057142857142857134\n",
      "Normal_Bombing-->acc:0.9729206963249516--recall:0.45714285714285713--precision:0.64--f1:0.5333333333333333\n",
      "Riots-->acc:0.9961315280464217--recall:0.0--precision:0.0--f1:0\n",
      "Storm-->acc:0.9738878143133463--recall:0.4186046511627907--precision:0.9--f1:0.5714285714285715\n",
      "Shoot_out-->acc:0.9806576402321083--recall:0.1--precision:0.5--f1:0.16666666666666669\n",
      "Surgical_strikes-->acc:0.9738878143133463--recall:0.3783783783783784--precision:0.7777777777777778--f1:0.5090909090909091\n",
      "Terrorist_Attack-->acc:0.9777562862669246--recall:0.6388888888888888--precision:0.696969696969697--f1:0.6666666666666666\n",
      "Transportation_Haazard-->acc:0.8317214700193424--recall:0.4463667820069204--precision:0.9020979020979021--f1:0.5972222222222222\n",
      "Tsunami-->acc:0.9941972920696325--recall:0.6--precision:0.75--f1:0.6666666666666665\n",
      "Volcano-->acc:0.9970986460348162--recall:0.7--precision:1.0--f1:0.8235294117647058\n"
     ]
    }
   ],
   "source": [
    "yp1=model.predict(Test_data)\n",
    "yp1[yp1>=0.5]=1.0\n",
    "yp1[yp1<0.5]=0.0\n",
    "graph=perlabel_accuracy(Test_data_classes,yp1)"
   ]
  },
  {
   "cell_type": "code",
   "execution_count": 62,
   "metadata": {},
   "outputs": [
    {
     "name": "stdout",
     "output_type": "stream",
     "text": [
      "original  Avalanches--No\n",
      "predicted  Avalanches--No\n",
      "original  Aviation_Hazard--No\n",
      "predicted  Aviation_Hazard--No\n",
      "original  Armed_conflicts--No\n",
      "predicted  Armed_conflicts--No\n",
      "original  Climate_change--No\n",
      "predicted  Climate_change--No\n",
      "original  Disease_outbreak--No\n",
      "predicted  Disease_outbreak--No\n",
      "original  Earthquake--No\n",
      "predicted  Earthquake--No\n",
      "original  Fire--No\n",
      "predicted  Fire--No\n",
      "original  Flood--No\n",
      "predicted  Flood--No\n",
      "original  Industrial_accident--Yes\n",
      "Predicted  Industrial_accident--Yes\n",
      "original  Landslide--No\n",
      "predicted  Landslide--No\n",
      "original  Normal_Bombing--No\n",
      "predicted  Normal_Bombing--No\n",
      "original  Riots--No\n",
      "predicted  Riots--No\n",
      "original  Storm--No\n",
      "predicted  Storm--No\n",
      "original  Shoot_out--No\n",
      "predicted  Shoot_out--No\n",
      "original  Surgical_strikes--No\n",
      "predicted  Surgical_strikes--No\n",
      "original  Terrorist_Attack--No\n",
      "predicted  Terrorist_Attack--No\n",
      "original  Transportation_Haazard--Yes\n",
      "predicted  Transportation_Haazard--No\n",
      "original  Tsunami--No\n",
      "predicted  Tsunami--No\n",
      "original  Volcano--No\n",
      "predicted  Volcano--No\n"
     ]
    }
   ],
   "source": [
    "for i in range(0,19):\n",
    "    if(Test_data_classes[11,i]==1.0):\n",
    "        print('original  '+event_space[i]+'--'+'Yes')\n",
    "    else:\n",
    "        print('original  '+event_space[i]+'--'+'No')\n",
    "    if(yp1[11,i]==1.0):\n",
    "        print('Predicted  '+event_space[i]+'--'+'Yes')\n",
    "    else:\n",
    "        print('predicted  '+event_space[i]+'--'+'No')"
   ]
  },
  {
   "cell_type": "code",
   "execution_count": 69,
   "metadata": {},
   "outputs": [],
   "source": [
    "np.savetxt(\"graph.csv\", graph, delimiter=\",\")"
   ]
  },
  {
   "cell_type": "code",
   "execution_count": 68,
   "metadata": {},
   "outputs": [
    {
     "data": {
      "text/plain": [
       "array([ 201., 1415., 2912., 1079., 1156., 1698.,  547.,  824., 3102.,\n",
       "        271.,  612.,  349.,  998.,  679.,  800.,  981., 1385.,  506.,\n",
       "        383.])"
      ]
     },
     "execution_count": 68,
     "metadata": {},
     "output_type": "execute_result"
    }
   ],
   "source": [
    "graph[:,4]"
   ]
  },
  {
   "cell_type": "markdown",
   "metadata": {},
   "source": [
    "Hyperparameter tuning(f1 score)\n",
    "graphs (number of documents(even for validation) vs metrics, multiclass classification)"
   ]
  },
  {
   "cell_type": "code",
   "execution_count": null,
   "metadata": {},
   "outputs": [],
   "source": []
  }
 ],
 "metadata": {
  "kernelspec": {
   "display_name": "conda_tensorflow_p36",
   "language": "python",
   "name": "conda_tensorflow_p36"
  },
  "language_info": {
   "codemirror_mode": {
    "name": "ipython",
    "version": 3
   },
   "file_extension": ".py",
   "mimetype": "text/x-python",
   "name": "python",
   "nbconvert_exporter": "python",
   "pygments_lexer": "ipython3",
   "version": "3.6.5"
  }
 },
 "nbformat": 4,
 "nbformat_minor": 4
}
